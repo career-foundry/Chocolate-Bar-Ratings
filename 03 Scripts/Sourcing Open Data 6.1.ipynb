{
 "cells": [
  {
   "cell_type": "code",
   "execution_count": 7,
   "id": "5e37d135-458b-4d3b-9caa-b0be0588f094",
   "metadata": {},
   "outputs": [],
   "source": [
    "import pandas as pd\n",
    "import numpy as np\n",
    "import matplotlib.pyplot as plt\n",
    "import seaborn as sns"
   ]
  },
  {
   "cell_type": "code",
   "execution_count": 8,
   "id": "0089b6e1-702c-4a67-b0a9-53c79e2523b4",
   "metadata": {},
   "outputs": [
    {
     "data": {
      "text/html": [
       "<div>\n",
       "<style scoped>\n",
       "    .dataframe tbody tr th:only-of-type {\n",
       "        vertical-align: middle;\n",
       "    }\n",
       "\n",
       "    .dataframe tbody tr th {\n",
       "        vertical-align: top;\n",
       "    }\n",
       "\n",
       "    .dataframe thead th {\n",
       "        text-align: right;\n",
       "    }\n",
       "</style>\n",
       "<table border=\"1\" class=\"dataframe\">\n",
       "  <thead>\n",
       "    <tr style=\"text-align: right;\">\n",
       "      <th></th>\n",
       "      <th>Company \\n(Maker-if known)</th>\n",
       "      <th>Specific Bean Origin\\nor Bar Name</th>\n",
       "      <th>REF</th>\n",
       "      <th>Review\\nDate</th>\n",
       "      <th>Cocoa\\nPercent</th>\n",
       "      <th>Company\\nLocation</th>\n",
       "      <th>Rating</th>\n",
       "      <th>Bean\\nType</th>\n",
       "      <th>Broad Bean\\nOrigin</th>\n",
       "    </tr>\n",
       "  </thead>\n",
       "  <tbody>\n",
       "    <tr>\n",
       "      <th>0</th>\n",
       "      <td>A. Morin</td>\n",
       "      <td>Agua Grande</td>\n",
       "      <td>1876</td>\n",
       "      <td>2016</td>\n",
       "      <td>63%</td>\n",
       "      <td>France</td>\n",
       "      <td>3.75</td>\n",
       "      <td></td>\n",
       "      <td>Sao Tome</td>\n",
       "    </tr>\n",
       "    <tr>\n",
       "      <th>1</th>\n",
       "      <td>A. Morin</td>\n",
       "      <td>Kpime</td>\n",
       "      <td>1676</td>\n",
       "      <td>2015</td>\n",
       "      <td>70%</td>\n",
       "      <td>France</td>\n",
       "      <td>2.75</td>\n",
       "      <td></td>\n",
       "      <td>Togo</td>\n",
       "    </tr>\n",
       "    <tr>\n",
       "      <th>2</th>\n",
       "      <td>A. Morin</td>\n",
       "      <td>Atsane</td>\n",
       "      <td>1676</td>\n",
       "      <td>2015</td>\n",
       "      <td>70%</td>\n",
       "      <td>France</td>\n",
       "      <td>3.00</td>\n",
       "      <td></td>\n",
       "      <td>Togo</td>\n",
       "    </tr>\n",
       "    <tr>\n",
       "      <th>3</th>\n",
       "      <td>A. Morin</td>\n",
       "      <td>Akata</td>\n",
       "      <td>1680</td>\n",
       "      <td>2015</td>\n",
       "      <td>70%</td>\n",
       "      <td>France</td>\n",
       "      <td>3.50</td>\n",
       "      <td></td>\n",
       "      <td>Togo</td>\n",
       "    </tr>\n",
       "    <tr>\n",
       "      <th>4</th>\n",
       "      <td>A. Morin</td>\n",
       "      <td>Quilla</td>\n",
       "      <td>1704</td>\n",
       "      <td>2015</td>\n",
       "      <td>70%</td>\n",
       "      <td>France</td>\n",
       "      <td>3.50</td>\n",
       "      <td></td>\n",
       "      <td>Peru</td>\n",
       "    </tr>\n",
       "  </tbody>\n",
       "</table>\n",
       "</div>"
      ],
      "text/plain": [
       "  Company \\n(Maker-if known) Specific Bean Origin\\nor Bar Name   REF  \\\n",
       "0                   A. Morin                       Agua Grande  1876   \n",
       "1                   A. Morin                             Kpime  1676   \n",
       "2                   A. Morin                            Atsane  1676   \n",
       "3                   A. Morin                             Akata  1680   \n",
       "4                   A. Morin                            Quilla  1704   \n",
       "\n",
       "   Review\\nDate Cocoa\\nPercent Company\\nLocation  Rating Bean\\nType  \\\n",
       "0          2016            63%            France    3.75              \n",
       "1          2015            70%            France    2.75              \n",
       "2          2015            70%            France    3.00              \n",
       "3          2015            70%            France    3.50              \n",
       "4          2015            70%            France    3.50              \n",
       "\n",
       "  Broad Bean\\nOrigin  \n",
       "0           Sao Tome  \n",
       "1               Togo  \n",
       "2               Togo  \n",
       "3               Togo  \n",
       "4               Peru  "
      ]
     },
     "execution_count": 8,
     "metadata": {},
     "output_type": "execute_result"
    }
   ],
   "source": [
    "df = pd.read_csv(\"/Users/wehadiwood/Desktop/Advanced Analytics and Dashboard Design/02 Data/Original Data/flavors_of_cacao.csv\")  # Replace with actual path\n",
    "df.head()"
   ]
  },
  {
   "cell_type": "code",
   "execution_count": 72,
   "id": "b13001fc-1570-4531-b40a-79303c602fee",
   "metadata": {},
   "outputs": [
    {
     "name": "stdout",
     "output_type": "stream",
     "text": [
      "    Company      BarName   REF ReviewDate  CocoaPercent Location  Rating  \\\n",
      "0  A. Morin  Agua Grande  1876 2016-01-01          0.63   France    3.75   \n",
      "1  A. Morin        Kpime  1676 2015-01-01          0.70   France    2.75   \n",
      "2  A. Morin       Atsane  1676 2015-01-01          0.70   France    3.00   \n",
      "\n",
      "  BeanType BroadOrigin  \n",
      "0             Sao Tome  \n",
      "1                 Togo  \n",
      "2                 Togo  \n",
      "\n",
      "Cleaned Columns: ['Company', 'BarName', 'REF', 'ReviewDate', 'CocoaPercent', 'Location', 'Rating', 'BeanType', 'BroadOrigin']\n"
     ]
    }
   ],
   "source": [
    "data = {\n",
    "    'Company \\n(Maker-if known)': ['A. Morin', 'A. Morin', 'A. Morin'],\n",
    "    'Specific Bean Origin\\nor Bar Name': ['Agua Grande', 'Kpime', 'Atsane'],\n",
    "    'REF': [1876, 1676, 1676],\n",
    "    'Review\\nDate': [2016, 2015, 2015],\n",
    "    'Cocoa\\nPercent': ['63%', '70%', '70%'],\n",
    "    'Company\\nLocation': ['France', 'France', 'France'],\n",
    "    'Rating': [3.75, 2.75, 3.00],\n",
    "    'Bean\\nType': ['', '', ''],\n",
    "    'Broad Bean\\nOrigin': ['Sao Tome', 'Togo', 'Togo']\n",
    "}\n",
    "df = pd.DataFrame(data)\n",
    "\n",
    "# ===== COLUMN CLEANING =====\n",
    "# 1. Remove newlines and extra spaces in column names\n",
    "df.columns = [col.replace('\\n', ' ').strip() for col in df.columns]\n",
    "\n",
    "# 2. Rename columns for consistency\n",
    "df.rename(columns={\n",
    "    'Company  (Maker-if known)': 'Company',\n",
    "    'Specific Bean Origin or Bar Name': 'BarName',\n",
    "    'Review Date': 'ReviewDate',\n",
    "    'Cocoa Percent': 'CocoaPercent',\n",
    "    'Company Location': 'Location',\n",
    "    'Bean Type': 'BeanType',\n",
    "    'Broad Bean Origin': 'BroadOrigin'\n",
    "}, inplace=True)\n",
    "\n",
    "# 3. Convert CocoaPercent from string (e.g., \"70%\") to float (e.g., 0.70)\n",
    "df['CocoaPercent'] = df['CocoaPercent'].str.rstrip('%').astype(float) / 100\n",
    "\n",
    "# 4.Convert ReviewDate to datetime if needed\n",
    "df['ReviewDate'] = pd.to_datetime(df['ReviewDate'], format='%Y')  # Converts year to datetime\n",
    "\n",
    "# 5. Display cleaned DataFrame\n",
    "print(df.head())\n",
    "print(\"\\nCleaned Columns:\", df.columns.tolist())"
   ]
  },
  {
   "cell_type": "code",
   "execution_count": 54,
   "id": "a601141b-4f2d-44c6-956a-019df7ee2b6b",
   "metadata": {},
   "outputs": [
    {
     "data": {
      "text/plain": [
       "numeric_column    0\n",
       "dtype: int64"
      ]
     },
     "execution_count": 54,
     "metadata": {},
     "output_type": "execute_result"
    }
   ],
   "source": [
    "# Check for missing values\n",
    "df.isnull().sum()"
   ]
  },
  {
   "cell_type": "code",
   "execution_count": 74,
   "id": "24321291-6bae-437e-9f6d-e7ae34faaa14",
   "metadata": {},
   "outputs": [
    {
     "name": "stdout",
     "output_type": "stream",
     "text": [
      "Missing BroadOrigin: 0\n"
     ]
    }
   ],
   "source": [
    "# Missing Values\n",
    "# Fill blank or NaN BeanType entries with 'Unknown'\n",
    "df['BeanType'] = df['BeanType'].fillna('').replace('', 'Unknown')\n",
    "# Count any missing BroadOrigin entries\n",
    "print(\"Missing BroadOrigin:\", df['BroadOrigin'].isna().sum())"
   ]
  },
  {
   "cell_type": "code",
   "execution_count": 56,
   "id": "97bb3d4b-bafd-4b14-abb6-7ebc255699eb",
   "metadata": {},
   "outputs": [],
   "source": [
    "# Rename columns for easier access\n",
    "df.columns = df.columns.str.strip().str.lower().str.replace(\" \", \"_\")"
   ]
  },
  {
   "cell_type": "code",
   "execution_count": 17,
   "id": "90486589-6c23-424e-80ba-707e020aeb51",
   "metadata": {},
   "outputs": [],
   "source": [
    "# If 'ref' or other metadata is unnecessary\n",
    "df = df.drop(columns=['ref'])  # adjust as needed"
   ]
  },
  {
   "cell_type": "code",
   "execution_count": 19,
   "id": "8b1c3d7d-2392-415e-82e6-c9fea9e5c19e",
   "metadata": {},
   "outputs": [
    {
     "name": "stdout",
     "output_type": "stream",
     "text": [
      "['company\\xa0\\n(maker-if_known)', 'specific_bean_origin\\nor_bar_name', 'review\\ndate', 'cocoa\\npercent', 'company\\nlocation', 'rating', 'bean\\ntype', 'broad_bean\\norigin']\n"
     ]
    }
   ],
   "source": [
    "print(df.columns.tolist())"
   ]
  },
  {
   "cell_type": "code",
   "execution_count": 28,
   "id": "e00b2418-b4e7-4722-9499-9edec3d41588",
   "metadata": {},
   "outputs": [
    {
     "name": "stdout",
     "output_type": "stream",
     "text": [
      "Duplicate rows: 0\n"
     ]
    }
   ],
   "source": [
    "# Count duplicate rows\n",
    "duplicates = df.duplicated().sum()\n",
    "print(f\"Duplicate rows: {duplicates}\")\n",
    "\n",
    "# Remove duplicates if necessary\n",
    "df.drop_duplicates(inplace=True)"
   ]
  },
  {
   "cell_type": "code",
   "execution_count": 34,
   "id": "ad712b09-75c8-4a63-98ab-a93bf6b16770",
   "metadata": {},
   "outputs": [],
   "source": [
    "# Example: Create a sample DataFrame\n",
    "df = pd.DataFrame({\n",
    "    'numeric_column': [10, 15, 20, 25, 30, 35, 40, 45, 50, 55]\n",
    "})"
   ]
  },
  {
   "cell_type": "code",
   "execution_count": 60,
   "id": "79fffdf3-312b-47ad-ba7e-86a75042fe52",
   "metadata": {},
   "outputs": [
    {
     "data": {
      "image/png": "[encoded data removed]",
      "text/plain": [
       "<Figure size 640x480 with 1 Axes>"
      ]
     },
     "metadata": {},
     "output_type": "display_data"
    },
    {
     "name": "stdout",
     "output_type": "stream",
     "text": [
      "count    10.000000\n",
      "mean     32.500000\n",
      "std      15.138252\n",
      "min      10.000000\n",
      "25%      21.250000\n",
      "50%      32.500000\n",
      "75%      43.750000\n",
      "max      55.000000\n",
      "Name: numeric_column, dtype: float64\n"
     ]
    }
   ],
   "source": [
    "import matplotlib.pyplot as plt\n",
    "import seaborn as sns\n",
    "\n",
    "# Histogram\n",
    "sns.histplot(df['numeric_column'])\n",
    "plt.show()\n",
    "\n",
    "# Summary statistics\n",
    "print(df['numeric_column'].describe())"
   ]
  },
  {
   "cell_type": "code",
   "execution_count": 76,
   "id": "89e0ab05-5538-48f7-b5d5-fc872d8bf9d1",
   "metadata": {},
   "outputs": [
    {
     "name": "stdout",
     "output_type": "stream",
     "text": [
      "Cleaned data saved to: /Users/wehadiwood/Desktop/Advanced Analytics and Dashboard Design/02 Data/Prepared Data/flavors_of_cacao_cleaned.csv\n"
     ]
    }
   ],
   "source": [
    "# Defining output path\n",
    "cleaned_data = r\"/Users/wehadiwood/Desktop/Advanced Analytics and Dashboard Design/02 Data/Prepared Data/flavors_of_cacao_cleaned.csv\"\n",
    "\n",
    "# Writing out the cleaned DataFrame\n",
    "df.to_csv(cleaned_data, index=False)\n",
    "\n",
    "print(f\"Cleaned data saved to: {cleaned_data}\")"
   ]
  },
  {
   "cell_type": "code",
   "execution_count": null,
   "id": "3e898172-af72-4cb3-858f-72573b2347ff",
   "metadata": {},
   "outputs": [],
   "source": []
  }
 ],
 "metadata": {
  "kernelspec": {
   "display_name": "Python [conda env:base] *",
   "language": "python",
   "name": "conda-base-py"
  },
  "language_info": {
   "codemirror_mode": {
    "name": "ipython",
    "version": 3
   },
   "file_extension": ".py",
   "mimetype": "text/x-python",
   "name": "python",
   "nbconvert_exporter": "python",
   "pygments_lexer": "ipython3",
   "version": "3.12.7"
  }
 },
 "nbformat": 4,
 "nbformat_minor": 5
}
