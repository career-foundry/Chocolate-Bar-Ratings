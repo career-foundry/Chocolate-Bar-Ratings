{
 "cells": [
  {
   "cell_type": "code",
   "execution_count": 1,
   "id": "ef879243-034b-4748-bc4e-97e18d246ee3",
   "metadata": {},
   "outputs": [
    {
     "name": "stdout",
     "output_type": "stream",
     "text": [
      "Cleaning complete! Sample data:\n",
      "  Company  (Maker-if known)      BarName   REF ReviewDate  CocoaPercent  \\\n",
      "0                  A. Morin  Agua Grande  1876 2016-01-01          0.63   \n",
      "1                  A. Morin        Kpime  1676 2015-01-01          0.70   \n",
      "2                  A. Morin       Atsane  1676 2015-01-01          0.70   \n",
      "3                  A. Morin        Akata  1680 2015-01-01          0.70   \n",
      "4                  A. Morin       Quilla  1704 2015-01-01          0.70   \n",
      "\n",
      "  Location  Rating BeanType BroadOrigin  Decade  \n",
      "0   France    3.75             Sao Tome    2010  \n",
      "1   France    2.75                 Togo    2010  \n",
      "2   France    3.00                 Togo    2010  \n",
      "3   France    3.50                 Togo    2010  \n",
      "4   France    3.50                 Peru    2010  \n",
      "\n",
      "Final columns: ['Company\\xa0 (Maker-if known)', 'BarName', 'REF', 'ReviewDate', 'CocoaPercent', 'Location', 'Rating', 'BeanType', 'BroadOrigin', 'Decade']\n"
     ]
    }
   ],
   "source": [
    "import pandas as pd\n",
    "import numpy as np\n",
    "\n",
    "# 1. LOAD THE DATA\n",
    "df = pd.read_csv('/Users/wehadiwood/Desktop/Advanced Analytics and Dashboard Design/02 Data/Original Data/flavors_of_cacao.csv')\n",
    "\n",
    "# 2. CLEAN COLUMN NAMES\n",
    "# Remove special characters and standardize names\n",
    "df.columns = df.columns.str.replace('\\n', ' ').str.strip()\n",
    "df = df.rename(columns={\n",
    "    'Company (Maker-if known)': 'Company',\n",
    "    'Specific Bean Origin or Bar Name': 'BarName',\n",
    "    'Review Date': 'ReviewDate',\n",
    "    'Cocoa Percent': 'CocoaPercent',\n",
    "    'Company Location': 'Location',\n",
    "    'Bean Type': 'BeanType',\n",
    "    'Broad Bean Origin': 'BroadOrigin'\n",
    "})\n",
    "\n",
    "# 3. CONVERT DATA TYPES\n",
    "# Cocoa % from \"70%\" → 0.70\n",
    "df['CocoaPercent'] = df['CocoaPercent'].str.rstrip('%').astype(float)/100\n",
    "\n",
    "# ReviewDate to datetime (years only)\n",
    "df['ReviewDate'] = pd.to_datetime(df['ReviewDate'], format='%Y')\n",
    "\n",
    "# 4. HANDLE MISSING VALUES\n",
    "# Fill empty BeanType with \"Unknown\"\n",
    "df['BeanType'] = df['BeanType'].replace('', np.nan).fillna('Unknown')\n",
    "\n",
    "# 5. CREATE NEW FEATURES (optional)\n",
    "# Decade of review\n",
    "df['Decade'] = (df['ReviewDate'].dt.year//10)*10\n",
    "\n",
    "# 6. FINAL CLEANING\n",
    "# Remove leading/trailing whitespace in all string columns\n",
    "str_cols = df.select_dtypes(include='object').columns\n",
    "df[str_cols] = df[str_cols].apply(lambda x: x.str.strip())\n",
    "\n",
    "# 7. SAVE CLEANED DATA\n",
    "df.to_csv('/Users/wehadiwood/Desktop/Advanced Analytics and Dashboard Design/02 Data/Prepared Data/Cleaned_flavors_of_cacao.csv', index=False)\n",
    "\n",
    "print(\"Cleaning complete! Sample data:\")\n",
    "print(df.head())\n",
    "print(f\"\\nFinal columns: {df.columns.tolist()}\")"
   ]
  }
 ],
 "metadata": {
  "kernelspec": {
   "display_name": "Python [conda env:base] *",
   "language": "python",
   "name": "conda-base-py"
  },
  "language_info": {
   "codemirror_mode": {
    "name": "ipython",
    "version": 3
   },
   "file_extension": ".py",
   "mimetype": "text/x-python",
   "name": "python",
   "nbconvert_exporter": "python",
   "pygments_lexer": "ipython3",
   "version": "3.12.7"
  }
 },
 "nbformat": 4,
 "nbformat_minor": 5
}
